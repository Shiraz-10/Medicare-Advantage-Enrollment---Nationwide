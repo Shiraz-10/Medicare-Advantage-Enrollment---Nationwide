{
 "cells": [
  {
   "cell_type": "code",
   "execution_count": 13,
   "metadata": {},
   "outputs": [],
   "source": [
    "import pandas as pd\n",
    "import numpy as np\n",
    "import matplotlib.pyplot as plt"
   ]
  },
  {
   "cell_type": "code",
   "execution_count": 14,
   "metadata": {},
   "outputs": [
    {
     "data": {
      "text/html": [
       "<div>\n",
       "<style scoped>\n",
       "    .dataframe tbody tr th:only-of-type {\n",
       "        vertical-align: middle;\n",
       "    }\n",
       "\n",
       "    .dataframe tbody tr th {\n",
       "        vertical-align: top;\n",
       "    }\n",
       "\n",
       "    .dataframe thead th {\n",
       "        text-align: right;\n",
       "    }\n",
       "</style>\n",
       "<table border=\"1\" class=\"dataframe\">\n",
       "  <thead>\n",
       "    <tr style=\"text-align: right;\">\n",
       "      <th></th>\n",
       "      <th>Legal Entity Name</th>\n",
       "      <th>Organization Marketing Name</th>\n",
       "      <th>Contract Number</th>\n",
       "      <th>Organization Type</th>\n",
       "      <th>Plan Type</th>\n",
       "      <th>Contract Effective Date</th>\n",
       "      <th>Tax Status</th>\n",
       "      <th>Parent Organization</th>\n",
       "      <th>CMS Region Responsible</th>\n",
       "      <th>Enrollment</th>\n",
       "      <th>...</th>\n",
       "      <th>Directory Contact Phone</th>\n",
       "      <th>Directory Contact Phone Ext</th>\n",
       "      <th>Directory Contact Fax</th>\n",
       "      <th>Directory Contact Email</th>\n",
       "      <th>Directory Contact St Address</th>\n",
       "      <th>Directory Contact St Address2</th>\n",
       "      <th>Directory Contact City</th>\n",
       "      <th>Directory Contact State</th>\n",
       "      <th>Directory Contact Zip</th>\n",
       "      <th>Directory Contact Last Update</th>\n",
       "    </tr>\n",
       "  </thead>\n",
       "  <tbody>\n",
       "    <tr>\n",
       "      <th>0</th>\n",
       "      <td>A&amp;D CHARITABLE FOUNDATION, INC.</td>\n",
       "      <td>Great Lakes PACE</td>\n",
       "      <td>H9185</td>\n",
       "      <td>National PACE</td>\n",
       "      <td>National PACE</td>\n",
       "      <td>05/01/2015</td>\n",
       "      <td>Not-for-Profit/Non-Profit</td>\n",
       "      <td>A&amp;D Charitable Foundation, Inc.</td>\n",
       "      <td>Chicago</td>\n",
       "      <td>193</td>\n",
       "      <td>...</td>\n",
       "      <td>1-989-272-7610</td>\n",
       "      <td>NaN</td>\n",
       "      <td>NaN</td>\n",
       "      <td>dbenjamin@greatlakespace.org</td>\n",
       "      <td>3378 Fashion Square Blvd</td>\n",
       "      <td>NaN</td>\n",
       "      <td>Saginaw</td>\n",
       "      <td>MI</td>\n",
       "      <td>48603</td>\n",
       "      <td>03/14/2017</td>\n",
       "    </tr>\n",
       "    <tr>\n",
       "      <th>1</th>\n",
       "      <td>ABSOLUTE TOTAL CARE, INC.</td>\n",
       "      <td>Wellcare Prime by Absolute Total Care</td>\n",
       "      <td>H1723</td>\n",
       "      <td>Demo</td>\n",
       "      <td>Medicare-Medicaid Plan HMO/HMOPOS</td>\n",
       "      <td>02/01/2015</td>\n",
       "      <td>For Profit</td>\n",
       "      <td>Centene Corporation</td>\n",
       "      <td>Atlanta</td>\n",
       "      <td>2,572</td>\n",
       "      <td>...</td>\n",
       "      <td>1-866-296-8731</td>\n",
       "      <td>NaN</td>\n",
       "      <td>NaN</td>\n",
       "      <td>CorporateMedicareComplianceDept@CENTENE.COM</td>\n",
       "      <td>4349 Easton Parkway</td>\n",
       "      <td>Suite 200</td>\n",
       "      <td>Columbus</td>\n",
       "      <td>OH</td>\n",
       "      <td>43219</td>\n",
       "      <td>06/25/2024</td>\n",
       "    </tr>\n",
       "    <tr>\n",
       "      <th>2</th>\n",
       "      <td>AETNA BETTER HEALTH INC. (GA)</td>\n",
       "      <td>Aetna Medicare</td>\n",
       "      <td>H3146</td>\n",
       "      <td>Local CCP</td>\n",
       "      <td>HMO/HMOPOS</td>\n",
       "      <td>01/01/2020</td>\n",
       "      <td>For Profit</td>\n",
       "      <td>CVS Health Corporation</td>\n",
       "      <td>Philadelphia</td>\n",
       "      <td>68,080</td>\n",
       "      <td>...</td>\n",
       "      <td>1-800-624-0756</td>\n",
       "      <td>NaN</td>\n",
       "      <td>NaN</td>\n",
       "      <td>CustomerService@aetna.com</td>\n",
       "      <td>151 Farmington Avenue</td>\n",
       "      <td>NaN</td>\n",
       "      <td>Hartford</td>\n",
       "      <td>CT</td>\n",
       "      <td>06156</td>\n",
       "      <td>12/07/2018</td>\n",
       "    </tr>\n",
       "    <tr>\n",
       "      <th>3</th>\n",
       "      <td>AETNA BETTER HEALTH INC. (NJ)</td>\n",
       "      <td>Aetna Better Health of New Jersey</td>\n",
       "      <td>H6399</td>\n",
       "      <td>Local CCP</td>\n",
       "      <td>HMO/HMOPOS</td>\n",
       "      <td>01/01/2021</td>\n",
       "      <td>For Profit</td>\n",
       "      <td>CVS Health Corporation</td>\n",
       "      <td>Philadelphia</td>\n",
       "      <td>7,304</td>\n",
       "      <td>...</td>\n",
       "      <td>1-844-362-0934</td>\n",
       "      <td>NaN</td>\n",
       "      <td>NaN</td>\n",
       "      <td>koblensm@aetna.com</td>\n",
       "      <td>7400 West Campus Road</td>\n",
       "      <td>NaN</td>\n",
       "      <td>New Albany</td>\n",
       "      <td>OH</td>\n",
       "      <td>43054</td>\n",
       "      <td>10/13/2023</td>\n",
       "    </tr>\n",
       "    <tr>\n",
       "      <th>4</th>\n",
       "      <td>AETNA BETTER HEALTH INC. (OH)</td>\n",
       "      <td>Aetna Better Health of Ohio, MyCare Ohio</td>\n",
       "      <td>H7172</td>\n",
       "      <td>Demo</td>\n",
       "      <td>Medicare-Medicaid Plan HMO/HMOPOS</td>\n",
       "      <td>05/01/2014</td>\n",
       "      <td>For Profit</td>\n",
       "      <td>CVS Health Corporation</td>\n",
       "      <td>Dallas</td>\n",
       "      <td>13,257</td>\n",
       "      <td>...</td>\n",
       "      <td>1-855-364-0974</td>\n",
       "      <td>NaN</td>\n",
       "      <td>NaN</td>\n",
       "      <td>koblensm@aetna.com</td>\n",
       "      <td>7400 West Campus Road</td>\n",
       "      <td>NaN</td>\n",
       "      <td>New Albany</td>\n",
       "      <td>OH</td>\n",
       "      <td>43054</td>\n",
       "      <td>10/13/2023</td>\n",
       "    </tr>\n",
       "  </tbody>\n",
       "</table>\n",
       "<p>5 rows × 29 columns</p>\n",
       "</div>"
      ],
      "text/plain": [
       "                 Legal Entity Name               Organization Marketing Name  \\\n",
       "0  A&D CHARITABLE FOUNDATION, INC.                          Great Lakes PACE   \n",
       "1        ABSOLUTE TOTAL CARE, INC.     Wellcare Prime by Absolute Total Care   \n",
       "2    AETNA BETTER HEALTH INC. (GA)                            Aetna Medicare   \n",
       "3    AETNA BETTER HEALTH INC. (NJ)         Aetna Better Health of New Jersey   \n",
       "4    AETNA BETTER HEALTH INC. (OH)  Aetna Better Health of Ohio, MyCare Ohio   \n",
       "\n",
       "  Contract Number Organization Type                          Plan Type  \\\n",
       "0           H9185     National PACE                      National PACE   \n",
       "1           H1723              Demo  Medicare-Medicaid Plan HMO/HMOPOS   \n",
       "2           H3146         Local CCP                         HMO/HMOPOS   \n",
       "3           H6399         Local CCP                         HMO/HMOPOS   \n",
       "4           H7172              Demo  Medicare-Medicaid Plan HMO/HMOPOS   \n",
       "\n",
       "  Contract Effective Date                 Tax Status  \\\n",
       "0              05/01/2015  Not-for-Profit/Non-Profit   \n",
       "1              02/01/2015                 For Profit   \n",
       "2              01/01/2020                 For Profit   \n",
       "3              01/01/2021                 For Profit   \n",
       "4              05/01/2014                 For Profit   \n",
       "\n",
       "               Parent Organization CMS Region Responsible Enrollment  ...  \\\n",
       "0  A&D Charitable Foundation, Inc.                Chicago        193  ...   \n",
       "1              Centene Corporation                Atlanta      2,572  ...   \n",
       "2           CVS Health Corporation           Philadelphia     68,080  ...   \n",
       "3           CVS Health Corporation           Philadelphia      7,304  ...   \n",
       "4           CVS Health Corporation                 Dallas     13,257  ...   \n",
       "\n",
       "  Directory Contact Phone Directory Contact Phone Ext Directory Contact Fax  \\\n",
       "0          1-989-272-7610                         NaN                   NaN   \n",
       "1          1-866-296-8731                         NaN                   NaN   \n",
       "2          1-800-624-0756                         NaN                   NaN   \n",
       "3          1-844-362-0934                         NaN                   NaN   \n",
       "4          1-855-364-0974                         NaN                   NaN   \n",
       "\n",
       "                       Directory Contact Email  Directory Contact St Address  \\\n",
       "0                 dbenjamin@greatlakespace.org      3378 Fashion Square Blvd   \n",
       "1  CorporateMedicareComplianceDept@CENTENE.COM           4349 Easton Parkway   \n",
       "2                    CustomerService@aetna.com         151 Farmington Avenue   \n",
       "3                           koblensm@aetna.com         7400 West Campus Road   \n",
       "4                           koblensm@aetna.com         7400 West Campus Road   \n",
       "\n",
       "  Directory Contact St Address2 Directory Contact City  \\\n",
       "0                           NaN                Saginaw   \n",
       "1                     Suite 200               Columbus   \n",
       "2                           NaN               Hartford   \n",
       "3                           NaN             New Albany   \n",
       "4                           NaN             New Albany   \n",
       "\n",
       "  Directory Contact State Directory Contact Zip Directory Contact Last Update  \n",
       "0                      MI                 48603                    03/14/2017  \n",
       "1                      OH                 43219                    06/25/2024  \n",
       "2                      CT                 06156                    12/07/2018  \n",
       "3                      OH                 43054                    10/13/2023  \n",
       "4                      OH                 43054                    10/13/2023  \n",
       "\n",
       "[5 rows x 29 columns]"
      ]
     },
     "execution_count": 14,
     "metadata": {},
     "output_type": "execute_result"
    }
   ],
   "source": [
    "data = pd.read_csv('C:\\\\Users\\\\shira\\\\Desktop\\\\Data Analysis with TT\\\\Safr Care - Centers For Medicare and Medicaid Services\\\\MA_Plan_Directory_2024_08\\\\MA_Contract_directory_2024_08.csv')\n",
    "data.head()"
   ]
  },
  {
   "cell_type": "code",
   "execution_count": 15,
   "metadata": {},
   "outputs": [
    {
     "name": "stdout",
     "output_type": "stream",
     "text": [
      "<class 'pandas.core.frame.DataFrame'>\n",
      "RangeIndex: 981 entries, 0 to 980\n",
      "Data columns (total 29 columns):\n",
      " #   Column                            Non-Null Count  Dtype  \n",
      "---  ------                            --------------  -----  \n",
      " 0   Legal Entity Name                 981 non-null    object \n",
      " 1   Organization Marketing Name       981 non-null    object \n",
      " 2   Contract Number                   981 non-null    object \n",
      " 3   Organization Type                 981 non-null    object \n",
      " 4   Plan Type                         981 non-null    object \n",
      " 5   Contract Effective Date           981 non-null    object \n",
      " 6   Tax Status                        981 non-null    object \n",
      " 7   Parent Organization               981 non-null    object \n",
      " 8   CMS Region Responsible            981 non-null    object \n",
      " 9   Enrollment                        954 non-null    object \n",
      " 10  Legal Entity Street               981 non-null    object \n",
      " 11  Legal Entity Street2              279 non-null    object \n",
      " 12  Legal Entity City                 981 non-null    object \n",
      " 13  Legal Entity State Code           981 non-null    object \n",
      " 14  Legal Entity Zip                  981 non-null    int64  \n",
      " 15  Directory Contact Title           532 non-null    object \n",
      " 16  Directory Contact Last Name       978 non-null    object \n",
      " 17  Directory Contact First Name      978 non-null    object \n",
      " 18  Directory Contact Middle Initial  8 non-null      object \n",
      " 19  Directory Contact Phone           979 non-null    object \n",
      " 20  Directory Contact Phone Ext       49 non-null     float64\n",
      " 21  Directory Contact Fax             204 non-null    object \n",
      " 22  Directory Contact Email           979 non-null    object \n",
      " 23  Directory Contact St Address      979 non-null    object \n",
      " 24  Directory Contact St Address2     265 non-null    object \n",
      " 25  Directory Contact City            979 non-null    object \n",
      " 26  Directory Contact State           979 non-null    object \n",
      " 27  Directory Contact Zip             979 non-null    object \n",
      " 28  Directory Contact Last Update     979 non-null    object \n",
      "dtypes: float64(1), int64(1), object(27)\n",
      "memory usage: 222.4+ KB\n"
     ]
    }
   ],
   "source": [
    "data.info()"
   ]
  },
  {
   "cell_type": "code",
   "execution_count": 16,
   "metadata": {},
   "outputs": [
    {
     "data": {
      "text/html": [
       "<div>\n",
       "<style scoped>\n",
       "    .dataframe tbody tr th:only-of-type {\n",
       "        vertical-align: middle;\n",
       "    }\n",
       "\n",
       "    .dataframe tbody tr th {\n",
       "        vertical-align: top;\n",
       "    }\n",
       "\n",
       "    .dataframe thead th {\n",
       "        text-align: right;\n",
       "    }\n",
       "</style>\n",
       "<table border=\"1\" class=\"dataframe\">\n",
       "  <thead>\n",
       "    <tr style=\"text-align: right;\">\n",
       "      <th></th>\n",
       "      <th>Legal Entity Zip</th>\n",
       "      <th>Directory Contact Phone Ext</th>\n",
       "    </tr>\n",
       "  </thead>\n",
       "  <tbody>\n",
       "    <tr>\n",
       "      <th>count</th>\n",
       "      <td>9.810000e+02</td>\n",
       "      <td>4.900000e+01</td>\n",
       "    </tr>\n",
       "    <tr>\n",
       "      <th>mean</th>\n",
       "      <td>1.530030e+07</td>\n",
       "      <td>5.217608e+05</td>\n",
       "    </tr>\n",
       "    <tr>\n",
       "      <th>std</th>\n",
       "      <td>9.722885e+07</td>\n",
       "      <td>1.985646e+06</td>\n",
       "    </tr>\n",
       "    <tr>\n",
       "      <th>min</th>\n",
       "      <td>9.180000e+02</td>\n",
       "      <td>1.010000e+02</td>\n",
       "    </tr>\n",
       "    <tr>\n",
       "      <th>25%</th>\n",
       "      <td>2.770200e+04</td>\n",
       "      <td>1.836000e+03</td>\n",
       "    </tr>\n",
       "    <tr>\n",
       "      <th>50%</th>\n",
       "      <td>5.530500e+04</td>\n",
       "      <td>6.908000e+03</td>\n",
       "    </tr>\n",
       "    <tr>\n",
       "      <th>75%</th>\n",
       "      <td>7.410300e+04</td>\n",
       "      <td>2.210100e+04</td>\n",
       "    </tr>\n",
       "    <tr>\n",
       "      <th>max</th>\n",
       "      <td>9.810118e+08</td>\n",
       "      <td>8.322629e+06</td>\n",
       "    </tr>\n",
       "  </tbody>\n",
       "</table>\n",
       "</div>"
      ],
      "text/plain": [
       "       Legal Entity Zip  Directory Contact Phone Ext\n",
       "count      9.810000e+02                 4.900000e+01\n",
       "mean       1.530030e+07                 5.217608e+05\n",
       "std        9.722885e+07                 1.985646e+06\n",
       "min        9.180000e+02                 1.010000e+02\n",
       "25%        2.770200e+04                 1.836000e+03\n",
       "50%        5.530500e+04                 6.908000e+03\n",
       "75%        7.410300e+04                 2.210100e+04\n",
       "max        9.810118e+08                 8.322629e+06"
      ]
     },
     "execution_count": 16,
     "metadata": {},
     "output_type": "execute_result"
    }
   ],
   "source": [
    "data.describe()"
   ]
  },
  {
   "cell_type": "code",
   "execution_count": 17,
   "metadata": {},
   "outputs": [
    {
     "data": {
      "text/plain": [
       "(981, 29)"
      ]
     },
     "execution_count": 17,
     "metadata": {},
     "output_type": "execute_result"
    }
   ],
   "source": [
    "data.shape"
   ]
  },
  {
   "cell_type": "code",
   "execution_count": 18,
   "metadata": {},
   "outputs": [
    {
     "data": {
      "text/plain": [
       "Legal Entity Name                     0\n",
       "Organization Marketing Name           0\n",
       "Contract Number                       0\n",
       "Organization Type                     0\n",
       "Plan Type                             0\n",
       "Contract Effective Date               0\n",
       "Tax Status                            0\n",
       "Parent Organization                   0\n",
       "CMS Region Responsible                0\n",
       "Enrollment                           27\n",
       "Legal Entity Street                   0\n",
       "Legal Entity Street2                702\n",
       "Legal Entity City                     0\n",
       "Legal Entity State Code               0\n",
       "Legal Entity Zip                      0\n",
       "Directory Contact Title             449\n",
       "Directory Contact Last Name           3\n",
       "Directory Contact First Name          3\n",
       "Directory Contact Middle Initial    973\n",
       "Directory Contact Phone               2\n",
       "Directory Contact Phone Ext         932\n",
       "Directory Contact Fax               777\n",
       "Directory Contact Email               2\n",
       "Directory Contact St Address          2\n",
       "Directory Contact St Address2       716\n",
       "Directory Contact City                2\n",
       "Directory Contact State               2\n",
       "Directory Contact Zip                 2\n",
       "Directory Contact Last Update         2\n",
       "dtype: int64"
      ]
     },
     "execution_count": 18,
     "metadata": {},
     "output_type": "execute_result"
    }
   ],
   "source": [
    "data.isnull().sum()"
   ]
  },
  {
   "cell_type": "code",
   "execution_count": 19,
   "metadata": {},
   "outputs": [
    {
     "data": {
      "text/plain": [
       "0         193\n",
       "1       2,572\n",
       "2      68,080\n",
       "3       7,304\n",
       "4      13,257\n",
       "        ...  \n",
       "976     5,244\n",
       "977     8,154\n",
       "978     1,258\n",
       "979     2,783\n",
       "980        20\n",
       "Name: Enrollment, Length: 981, dtype: object"
      ]
     },
     "execution_count": 19,
     "metadata": {},
     "output_type": "execute_result"
    }
   ],
   "source": [
    "data['Enrollment']"
   ]
  },
  {
   "cell_type": "code",
   "execution_count": 20,
   "metadata": {},
   "outputs": [
    {
     "data": {
      "text/plain": [
       "0      MI\n",
       "1      OH\n",
       "2      CT\n",
       "3      OH\n",
       "4      OH\n",
       "       ..\n",
       "976    OH\n",
       "977    IL\n",
       "978    IL\n",
       "979    IL\n",
       "980    CA\n",
       "Name: Directory Contact State, Length: 981, dtype: object"
      ]
     },
     "execution_count": 20,
     "metadata": {},
     "output_type": "execute_result"
    }
   ],
   "source": [
    "data['Directory Contact State']"
   ]
  },
  {
   "cell_type": "code",
   "execution_count": 21,
   "metadata": {},
   "outputs": [],
   "source": [
    "data = data.dropna(subset=['Enrollment'])"
   ]
  },
  {
   "cell_type": "code",
   "execution_count": 22,
   "metadata": {},
   "outputs": [
    {
     "data": {
      "text/plain": [
       "Legal Entity Name                     0\n",
       "Organization Marketing Name           0\n",
       "Contract Number                       0\n",
       "Organization Type                     0\n",
       "Plan Type                             0\n",
       "Contract Effective Date               0\n",
       "Tax Status                            0\n",
       "Parent Organization                   0\n",
       "CMS Region Responsible                0\n",
       "Enrollment                            0\n",
       "Legal Entity Street                   0\n",
       "Legal Entity Street2                677\n",
       "Legal Entity City                     0\n",
       "Legal Entity State Code               0\n",
       "Legal Entity Zip                      0\n",
       "Directory Contact Title             436\n",
       "Directory Contact Last Name           3\n",
       "Directory Contact First Name          3\n",
       "Directory Contact Middle Initial    947\n",
       "Directory Contact Phone               2\n",
       "Directory Contact Phone Ext         905\n",
       "Directory Contact Fax               757\n",
       "Directory Contact Email               2\n",
       "Directory Contact St Address          2\n",
       "Directory Contact St Address2       703\n",
       "Directory Contact City                2\n",
       "Directory Contact State               2\n",
       "Directory Contact Zip                 2\n",
       "Directory Contact Last Update         2\n",
       "dtype: int64"
      ]
     },
     "execution_count": 22,
     "metadata": {},
     "output_type": "execute_result"
    }
   ],
   "source": [
    "data.isnull().sum()"
   ]
  },
  {
   "cell_type": "code",
   "execution_count": 23,
   "metadata": {},
   "outputs": [],
   "source": [
    "# Fill missing values in the 'Directory Contact State', 'Directory Contact Zip' and 'Directory Contact City' columns with 'Unknown'\n",
    "data['Directory Contact State'] = data['Directory Contact State'].fillna('Unknown')\n",
    "data['Directory Contact Zip'] = data['Directory Contact Zip'].fillna('Unknown')\n",
    "data['Directory Contact City'] = data['Directory Contact City'].fillna('Unknown')"
   ]
  },
  {
   "cell_type": "code",
   "execution_count": 24,
   "metadata": {},
   "outputs": [
    {
     "data": {
      "text/plain": [
       "Legal Entity Name                     0\n",
       "Organization Marketing Name           0\n",
       "Contract Number                       0\n",
       "Organization Type                     0\n",
       "Plan Type                             0\n",
       "Contract Effective Date               0\n",
       "Tax Status                            0\n",
       "Parent Organization                   0\n",
       "CMS Region Responsible                0\n",
       "Enrollment                            0\n",
       "Legal Entity Street                   0\n",
       "Legal Entity Street2                677\n",
       "Legal Entity City                     0\n",
       "Legal Entity State Code               0\n",
       "Legal Entity Zip                      0\n",
       "Directory Contact Title             436\n",
       "Directory Contact Last Name           3\n",
       "Directory Contact First Name          3\n",
       "Directory Contact Middle Initial    947\n",
       "Directory Contact Phone               2\n",
       "Directory Contact Phone Ext         905\n",
       "Directory Contact Fax               757\n",
       "Directory Contact Email               2\n",
       "Directory Contact St Address          2\n",
       "Directory Contact St Address2       703\n",
       "Directory Contact City                0\n",
       "Directory Contact State               0\n",
       "Directory Contact Zip                 0\n",
       "Directory Contact Last Update         2\n",
       "dtype: int64"
      ]
     },
     "execution_count": 24,
     "metadata": {},
     "output_type": "execute_result"
    }
   ],
   "source": [
    "data.isnull().sum()"
   ]
  },
  {
   "cell_type": "markdown",
   "metadata": {},
   "source": [
    "Data Visualizations"
   ]
  },
  {
   "cell_type": "code",
   "execution_count": 26,
   "metadata": {},
   "outputs": [
    {
     "name": "stdout",
     "output_type": "stream",
     "text": [
      "Enrollment\n",
      "*        11\n",
      "234       4\n",
      "76        3\n",
      "264       3\n",
      "92        3\n",
      "         ..\n",
      "5,244     1\n",
      "8,154     1\n",
      "1,258     1\n",
      "2,783     1\n",
      "7,304     1\n",
      "Name: count, Length: 885, dtype: int64\n"
     ]
    }
   ],
   "source": [
    "Enrollment_total = data[\"Enrollment\"].value_counts()\n",
    "print(Enrollment_total)"
   ]
  },
  {
   "cell_type": "code",
   "execution_count": 27,
   "metadata": {},
   "outputs": [
    {
     "data": {
      "text/plain": [
       "<Axes: xlabel='Enrollment'>"
      ]
     },
     "execution_count": 27,
     "metadata": {},
     "output_type": "execute_result"
    },
    {
     "data": {
      "image/png": "[encoded data removed]",
      "text/plain": [
       "<Figure size 640x480 with 1 Axes>"
      ]
     },
     "metadata": {},
     "output_type": "display_data"
    }
   ],
   "source": [
    "Enrollment_total.plot(kind='bar')"
   ]
  },
  {
   "cell_type": "code",
   "execution_count": 28,
   "metadata": {},
   "outputs": [],
   "source": [
    "data.to_csv('Medicare_Advantage_Directory.csv')"
   ]
  }
 ],
 "metadata": {
  "kernelspec": {
   "display_name": "Python 3",
   "language": "python",
   "name": "python3"
  },
  "language_info": {
   "codemirror_mode": {
    "name": "ipython",
    "version": 3
   },
   "file_extension": ".py",
   "mimetype": "text/x-python",
   "name": "python",
   "nbconvert_exporter": "python",
   "pygments_lexer": "ipython3",
   "version": "3.11.5"
  }
 },
 "nbformat": 4,
 "nbformat_minor": 2
}
